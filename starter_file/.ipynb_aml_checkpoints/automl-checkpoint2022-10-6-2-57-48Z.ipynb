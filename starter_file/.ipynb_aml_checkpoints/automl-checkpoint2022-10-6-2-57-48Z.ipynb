{
  "cells": [
    {
      "cell_type": "markdown",
      "source": [
        "# Automated ML\n",
        "\n",
        "TODO: Import Dependencies. In the cell below, import all the dependencies that you will need to complete the project."
      ],
      "metadata": {}
    },
    {
      "cell_type": "code",
      "source": [
        "import logging\n",
        "import os \n",
        "import csv \n",
        "\n",
        "import numpy as np \n",
        "import pandas as pd \n",
        "import pkg_resources\n",
        "from matplotlib import pyplot as plt \n",
        "from sklearn.model_selection import train_test_split\n",
        "\n",
        "import azureml.core\n",
        "from azureml.core.experiment import Experiment\n",
        "from azureml.core.workspace import Workspace\n",
        "from azureml.train.automl import AutoMLConfig\n",
        "from azureml.core.dataset import Dataset\n",
        "from azureml.data.dataset_factory import TabularDatasetFactory\n",
        "\n",
        "from azureml.pipeline.steps import AutoMLStep\n",
        "from azureml.widgets import RunDetails\n",
        "\n",
        "# Check core SDK version number\n",
        "print(\"SDK version:\", azureml.core.VERSION)"
      ],
      "outputs": [
        {
          "output_type": "stream",
          "name": "stdout",
          "text": "SDK version: 1.44.0\n"
        }
      ],
      "execution_count": 26,
      "metadata": {
        "gather": {
          "logged": 1667700499551
        },
        "jupyter": {
          "outputs_hidden": false,
          "source_hidden": false
        },
        "nteract": {
          "transient": {
            "deleting": false
          }
        }
      }
    },
    {
      "cell_type": "markdown",
      "source": [
        "## Dataset\n",
        "\n",
        "### Overview\n",
        "The dataset I will be using for this project is the Top Hits Spotify from 2000-2019 dataset taken from kaggle. The goal of this project will be to predict song popularity given the available features. Popularity is measured on a continuous scale, thus this will be a **regression** problem. \n",
        "\n",
        "\n",
        "The code below will download the dataset from my github repository and create a data asset. "
      ],
      "metadata": {}
    },
    {
      "cell_type": "code",
      "source": [
        "ws = Workspace.from_config()\n",
        "\n",
        "# choose a name for experiment\n",
        "experiment_name = 'udacity-capstone'\n",
        "\n",
        "experiment=Experiment(ws, experiment_name)"
      ],
      "outputs": [],
      "execution_count": 2,
      "metadata": {
        "gather": {
          "logged": 1667698829462
        },
        "jupyter": {
          "outputs_hidden": false,
          "source_hidden": false
        },
        "nteract": {
          "transient": {
            "deleting": false
          }
        }
      }
    },
    {
      "cell_type": "code",
      "source": [
        "found = False\n",
        "key = \"spotify-songs-dataset\"\n",
        "description_text = \"Top Hits Spotify from 2000-2019\"\n",
        "\n",
        "if key in ws.datasets.keys(): \n",
        "        found = True\n",
        "        dataset = ws.datasets[key] \n",
        "\n",
        "if not found:\n",
        "        # Create AML Dataset and register it into Workspace\n",
        "        data = 'https://raw.githubusercontent.com/ash-mohan/azureMLCapstone/main/starter_file/data/songs_normalize.csv'\n",
        "        dataset = Dataset.Tabular.from_delimited_files(data)        \n",
        "        #Register Dataset in Workspace\n",
        "        dataset = dataset.register(workspace=ws,\n",
        "                                   name=key,\n",
        "                                   description=description_text)\n",
        "\n",
        "\n",
        "df = dataset.to_pandas_dataframe()\n",
        "df.describe()"
      ],
      "outputs": [
        {
          "output_type": "execute_result",
          "execution_count": 3,
          "data": {
            "text/plain": "         duration_ms        year   popularity  danceability       energy  \\\ncount    2000.000000  2000.00000  2000.000000   2000.000000  2000.000000   \nmean   228748.124500  2009.49400    59.872500      0.667437     0.720366   \nstd     39136.569008     5.85996    21.335577      0.140416     0.152745   \nmin    113000.000000  1998.00000     0.000000      0.129000     0.054900   \n25%    203580.000000  2004.00000    56.000000      0.581000     0.622000   \n50%    223279.500000  2010.00000    65.500000      0.676000     0.736000   \n75%    248133.000000  2015.00000    73.000000      0.764000     0.839000   \nmax    484146.000000  2020.00000    89.000000      0.975000     0.999000   \n\n               key     loudness         mode  speechiness  acousticness  \\\ncount  2000.000000  2000.000000  2000.000000  2000.000000   2000.000000   \nmean      5.378000    -5.512435     0.553500     0.103568      0.128955   \nstd       3.615059     1.933482     0.497254     0.096159      0.173346   \nmin       0.000000   -20.514000     0.000000     0.023200      0.000019   \n25%       2.000000    -6.490250     0.000000     0.039600      0.014000   \n50%       6.000000    -5.285000     1.000000     0.059850      0.055700   \n75%       8.000000    -4.167750     1.000000     0.129000      0.176250   \nmax      11.000000    -0.276000     1.000000     0.576000      0.976000   \n\n       instrumentalness     liveness      valence        tempo  \ncount       2000.000000  2000.000000  2000.000000  2000.000000  \nmean           0.015226     0.181216     0.551690   120.122558  \nstd            0.087771     0.140669     0.220864    26.967112  \nmin            0.000000     0.021500     0.038100    60.019000  \n25%            0.000000     0.088100     0.386750    98.985750  \n50%            0.000000     0.124000     0.557500   120.021500  \n75%            0.000068     0.241000     0.730000   134.265500  \nmax            0.985000     0.853000     0.973000   210.851000  ",
            "text/html": "<div>\n<style scoped>\n    .dataframe tbody tr th:only-of-type {\n        vertical-align: middle;\n    }\n\n    .dataframe tbody tr th {\n        vertical-align: top;\n    }\n\n    .dataframe thead th {\n        text-align: right;\n    }\n</style>\n<table border=\"1\" class=\"dataframe\">\n  <thead>\n    <tr style=\"text-align: right;\">\n      <th></th>\n      <th>duration_ms</th>\n      <th>year</th>\n      <th>popularity</th>\n      <th>danceability</th>\n      <th>energy</th>\n      <th>key</th>\n      <th>loudness</th>\n      <th>mode</th>\n      <th>speechiness</th>\n      <th>acousticness</th>\n      <th>instrumentalness</th>\n      <th>liveness</th>\n      <th>valence</th>\n      <th>tempo</th>\n    </tr>\n  </thead>\n  <tbody>\n    <tr>\n      <th>count</th>\n      <td>2000.000000</td>\n      <td>2000.00000</td>\n      <td>2000.000000</td>\n      <td>2000.000000</td>\n      <td>2000.000000</td>\n      <td>2000.000000</td>\n      <td>2000.000000</td>\n      <td>2000.000000</td>\n      <td>2000.000000</td>\n      <td>2000.000000</td>\n      <td>2000.000000</td>\n      <td>2000.000000</td>\n      <td>2000.000000</td>\n      <td>2000.000000</td>\n    </tr>\n    <tr>\n      <th>mean</th>\n      <td>228748.124500</td>\n      <td>2009.49400</td>\n      <td>59.872500</td>\n      <td>0.667437</td>\n      <td>0.720366</td>\n      <td>5.378000</td>\n      <td>-5.512435</td>\n      <td>0.553500</td>\n      <td>0.103568</td>\n      <td>0.128955</td>\n      <td>0.015226</td>\n      <td>0.181216</td>\n      <td>0.551690</td>\n      <td>120.122558</td>\n    </tr>\n    <tr>\n      <th>std</th>\n      <td>39136.569008</td>\n      <td>5.85996</td>\n      <td>21.335577</td>\n      <td>0.140416</td>\n      <td>0.152745</td>\n      <td>3.615059</td>\n      <td>1.933482</td>\n      <td>0.497254</td>\n      <td>0.096159</td>\n      <td>0.173346</td>\n      <td>0.087771</td>\n      <td>0.140669</td>\n      <td>0.220864</td>\n      <td>26.967112</td>\n    </tr>\n    <tr>\n      <th>min</th>\n      <td>113000.000000</td>\n      <td>1998.00000</td>\n      <td>0.000000</td>\n      <td>0.129000</td>\n      <td>0.054900</td>\n      <td>0.000000</td>\n      <td>-20.514000</td>\n      <td>0.000000</td>\n      <td>0.023200</td>\n      <td>0.000019</td>\n      <td>0.000000</td>\n      <td>0.021500</td>\n      <td>0.038100</td>\n      <td>60.019000</td>\n    </tr>\n    <tr>\n      <th>25%</th>\n      <td>203580.000000</td>\n      <td>2004.00000</td>\n      <td>56.000000</td>\n      <td>0.581000</td>\n      <td>0.622000</td>\n      <td>2.000000</td>\n      <td>-6.490250</td>\n      <td>0.000000</td>\n      <td>0.039600</td>\n      <td>0.014000</td>\n      <td>0.000000</td>\n      <td>0.088100</td>\n      <td>0.386750</td>\n      <td>98.985750</td>\n    </tr>\n    <tr>\n      <th>50%</th>\n      <td>223279.500000</td>\n      <td>2010.00000</td>\n      <td>65.500000</td>\n      <td>0.676000</td>\n      <td>0.736000</td>\n      <td>6.000000</td>\n      <td>-5.285000</td>\n      <td>1.000000</td>\n      <td>0.059850</td>\n      <td>0.055700</td>\n      <td>0.000000</td>\n      <td>0.124000</td>\n      <td>0.557500</td>\n      <td>120.021500</td>\n    </tr>\n    <tr>\n      <th>75%</th>\n      <td>248133.000000</td>\n      <td>2015.00000</td>\n      <td>73.000000</td>\n      <td>0.764000</td>\n      <td>0.839000</td>\n      <td>8.000000</td>\n      <td>-4.167750</td>\n      <td>1.000000</td>\n      <td>0.129000</td>\n      <td>0.176250</td>\n      <td>0.000068</td>\n      <td>0.241000</td>\n      <td>0.730000</td>\n      <td>134.265500</td>\n    </tr>\n    <tr>\n      <th>max</th>\n      <td>484146.000000</td>\n      <td>2020.00000</td>\n      <td>89.000000</td>\n      <td>0.975000</td>\n      <td>0.999000</td>\n      <td>11.000000</td>\n      <td>-0.276000</td>\n      <td>1.000000</td>\n      <td>0.576000</td>\n      <td>0.976000</td>\n      <td>0.985000</td>\n      <td>0.853000</td>\n      <td>0.973000</td>\n      <td>210.851000</td>\n    </tr>\n  </tbody>\n</table>\n</div>"
          },
          "metadata": {}
        }
      ],
      "execution_count": 3,
      "metadata": {
        "jupyter": {
          "source_hidden": false,
          "outputs_hidden": false
        },
        "nteract": {
          "transient": {
            "deleting": false
          }
        },
        "gather": {
          "logged": 1667698840129
        }
      }
    },
    {
      "cell_type": "code",
      "source": [
        "df.info()\n",
        "\n",
        "print(f\"\\n\\nRows: {df.shape[0]} \\nColumns: {df.shape[1]}\")"
      ],
      "outputs": [
        {
          "output_type": "stream",
          "name": "stdout",
          "text": "<class 'pandas.core.frame.DataFrame'>\nRangeIndex: 2000 entries, 0 to 1999\nData columns (total 18 columns):\n #   Column            Non-Null Count  Dtype  \n---  ------            --------------  -----  \n 0   artist            2000 non-null   object \n 1   song              2000 non-null   object \n 2   duration_ms       2000 non-null   int64  \n 3   explicit          2000 non-null   bool   \n 4   year              2000 non-null   int64  \n 5   popularity        2000 non-null   int64  \n 6   danceability      2000 non-null   float64\n 7   energy            2000 non-null   float64\n 8   key               2000 non-null   int64  \n 9   loudness          2000 non-null   float64\n 10  mode              2000 non-null   int64  \n 11  speechiness       2000 non-null   float64\n 12  acousticness      2000 non-null   float64\n 13  instrumentalness  2000 non-null   float64\n 14  liveness          2000 non-null   float64\n 15  valence           2000 non-null   float64\n 16  tempo             2000 non-null   float64\n 17  genre             2000 non-null   object \ndtypes: bool(1), float64(9), int64(5), object(3)\nmemory usage: 267.7+ KB\n\n\nRows: 2000 \nColumns: 18\n"
        }
      ],
      "execution_count": 12,
      "metadata": {
        "jupyter": {
          "source_hidden": false,
          "outputs_hidden": false
        },
        "nteract": {
          "transient": {
            "deleting": false
          }
        },
        "gather": {
          "logged": 1667699101507
        }
      }
    },
    {
      "cell_type": "markdown",
      "source": [
        "We can see that there are no missing values , so we will not have to drop nulls. However, this data is meant to be from 2000-2019 and we can see from the output above there are some outliers outside of this range. We will drop these rows along with any duplicate rows. "
      ],
      "metadata": {
        "nteract": {
          "transient": {
            "deleting": false
          }
        }
      }
    },
    {
      "cell_type": "code",
      "source": [
        "new_df = df[df['year'].between(2000, 2019)].drop_duplicates()\n",
        "new_df.describe()"
      ],
      "outputs": [
        {
          "output_type": "execute_result",
          "execution_count": 18,
          "data": {
            "text/plain": "         duration_ms         year   popularity  danceability       energy  \\\ncount    1899.000000  1899.000000  1899.000000   1899.000000  1899.000000   \nmean   228123.525540  2009.720379    59.558715      0.667637     0.721256   \nstd     39116.687604     5.725938    21.683909      0.140547     0.152511   \nmin    113000.000000  2000.000000     0.000000      0.129000     0.054900   \n25%    203273.000000  2005.000000    56.000000      0.581000     0.624500   \n50%    222920.000000  2010.000000    65.000000      0.676000     0.738000   \n75%    247086.000000  2015.000000    73.000000      0.765000     0.839000   \nmax    484146.000000  2019.000000    89.000000      0.975000     0.999000   \n\n               key     loudness         mode  speechiness  acousticness  \\\ncount  1899.000000  1899.000000  1899.000000  1899.000000   1899.000000   \nmean      5.379147    -5.503538     0.553976     0.104413      0.127722   \nstd       3.610882     1.931067     0.497209     0.096523      0.172951   \nmin       0.000000   -20.514000     0.000000     0.023200      0.000019   \n25%       2.000000    -6.480000     0.000000     0.039900      0.013550   \n50%       6.000000    -5.279000     1.000000     0.061300      0.055300   \n75%       8.000000    -4.167000     1.000000     0.130500      0.175000   \nmax      11.000000    -0.276000     1.000000     0.576000      0.976000   \n\n       instrumentalness     liveness      valence        tempo  \ncount       1899.000000  1899.000000  1899.000000  1899.000000  \nmean           0.015525     0.181934     0.552579   120.115425  \nstd            0.089036     0.140827     0.220361    26.986107  \nmin            0.000000     0.021500     0.038100    60.019000  \n25%            0.000000     0.088750     0.389500    98.605000  \n50%            0.000000     0.125000     0.559000   120.028000  \n75%            0.000064     0.242000     0.730500   134.124500  \nmax            0.985000     0.853000     0.973000   210.851000  ",
            "text/html": "<div>\n<style scoped>\n    .dataframe tbody tr th:only-of-type {\n        vertical-align: middle;\n    }\n\n    .dataframe tbody tr th {\n        vertical-align: top;\n    }\n\n    .dataframe thead th {\n        text-align: right;\n    }\n</style>\n<table border=\"1\" class=\"dataframe\">\n  <thead>\n    <tr style=\"text-align: right;\">\n      <th></th>\n      <th>duration_ms</th>\n      <th>year</th>\n      <th>popularity</th>\n      <th>danceability</th>\n      <th>energy</th>\n      <th>key</th>\n      <th>loudness</th>\n      <th>mode</th>\n      <th>speechiness</th>\n      <th>acousticness</th>\n      <th>instrumentalness</th>\n      <th>liveness</th>\n      <th>valence</th>\n      <th>tempo</th>\n    </tr>\n  </thead>\n  <tbody>\n    <tr>\n      <th>count</th>\n      <td>1899.000000</td>\n      <td>1899.000000</td>\n      <td>1899.000000</td>\n      <td>1899.000000</td>\n      <td>1899.000000</td>\n      <td>1899.000000</td>\n      <td>1899.000000</td>\n      <td>1899.000000</td>\n      <td>1899.000000</td>\n      <td>1899.000000</td>\n      <td>1899.000000</td>\n      <td>1899.000000</td>\n      <td>1899.000000</td>\n      <td>1899.000000</td>\n    </tr>\n    <tr>\n      <th>mean</th>\n      <td>228123.525540</td>\n      <td>2009.720379</td>\n      <td>59.558715</td>\n      <td>0.667637</td>\n      <td>0.721256</td>\n      <td>5.379147</td>\n      <td>-5.503538</td>\n      <td>0.553976</td>\n      <td>0.104413</td>\n      <td>0.127722</td>\n      <td>0.015525</td>\n      <td>0.181934</td>\n      <td>0.552579</td>\n      <td>120.115425</td>\n    </tr>\n    <tr>\n      <th>std</th>\n      <td>39116.687604</td>\n      <td>5.725938</td>\n      <td>21.683909</td>\n      <td>0.140547</td>\n      <td>0.152511</td>\n      <td>3.610882</td>\n      <td>1.931067</td>\n      <td>0.497209</td>\n      <td>0.096523</td>\n      <td>0.172951</td>\n      <td>0.089036</td>\n      <td>0.140827</td>\n      <td>0.220361</td>\n      <td>26.986107</td>\n    </tr>\n    <tr>\n      <th>min</th>\n      <td>113000.000000</td>\n      <td>2000.000000</td>\n      <td>0.000000</td>\n      <td>0.129000</td>\n      <td>0.054900</td>\n      <td>0.000000</td>\n      <td>-20.514000</td>\n      <td>0.000000</td>\n      <td>0.023200</td>\n      <td>0.000019</td>\n      <td>0.000000</td>\n      <td>0.021500</td>\n      <td>0.038100</td>\n      <td>60.019000</td>\n    </tr>\n    <tr>\n      <th>25%</th>\n      <td>203273.000000</td>\n      <td>2005.000000</td>\n      <td>56.000000</td>\n      <td>0.581000</td>\n      <td>0.624500</td>\n      <td>2.000000</td>\n      <td>-6.480000</td>\n      <td>0.000000</td>\n      <td>0.039900</td>\n      <td>0.013550</td>\n      <td>0.000000</td>\n      <td>0.088750</td>\n      <td>0.389500</td>\n      <td>98.605000</td>\n    </tr>\n    <tr>\n      <th>50%</th>\n      <td>222920.000000</td>\n      <td>2010.000000</td>\n      <td>65.000000</td>\n      <td>0.676000</td>\n      <td>0.738000</td>\n      <td>6.000000</td>\n      <td>-5.279000</td>\n      <td>1.000000</td>\n      <td>0.061300</td>\n      <td>0.055300</td>\n      <td>0.000000</td>\n      <td>0.125000</td>\n      <td>0.559000</td>\n      <td>120.028000</td>\n    </tr>\n    <tr>\n      <th>75%</th>\n      <td>247086.000000</td>\n      <td>2015.000000</td>\n      <td>73.000000</td>\n      <td>0.765000</td>\n      <td>0.839000</td>\n      <td>8.000000</td>\n      <td>-4.167000</td>\n      <td>1.000000</td>\n      <td>0.130500</td>\n      <td>0.175000</td>\n      <td>0.000064</td>\n      <td>0.242000</td>\n      <td>0.730500</td>\n      <td>134.124500</td>\n    </tr>\n    <tr>\n      <th>max</th>\n      <td>484146.000000</td>\n      <td>2019.000000</td>\n      <td>89.000000</td>\n      <td>0.975000</td>\n      <td>0.999000</td>\n      <td>11.000000</td>\n      <td>-0.276000</td>\n      <td>1.000000</td>\n      <td>0.576000</td>\n      <td>0.976000</td>\n      <td>0.985000</td>\n      <td>0.853000</td>\n      <td>0.973000</td>\n      <td>210.851000</td>\n    </tr>\n  </tbody>\n</table>\n</div>"
          },
          "metadata": {}
        }
      ],
      "execution_count": 18,
      "metadata": {
        "jupyter": {
          "source_hidden": false,
          "outputs_hidden": false
        },
        "nteract": {
          "transient": {
            "deleting": false
          }
        },
        "gather": {
          "logged": 1667699275570
        }
      }
    },
    {
      "cell_type": "code",
      "source": [
        "print(f\"Rows: {new_df.shape[0]} \\nColumns: {new_df.shape[1]}\")"
      ],
      "outputs": [
        {
          "output_type": "stream",
          "name": "stdout",
          "text": "Rows: 1899 \nColumns: 18\n"
        }
      ],
      "execution_count": 20,
      "metadata": {
        "jupyter": {
          "source_hidden": false,
          "outputs_hidden": false
        },
        "nteract": {
          "transient": {
            "deleting": false
          }
        },
        "gather": {
          "logged": 1667699284532
        }
      }
    },
    {
      "cell_type": "code",
      "source": [
        "# only 2000 data points so test size will be small \n",
        "train_data, test_data = train_test_split(df, test_size=0.1, random_state=42)\n",
        "\n",
        "print(f\"Training Data: {train_data.shape[0]} entries\")\n",
        "print(f\"Testing Data: {test_data.shape[0]} entries\")"
      ],
      "outputs": [
        {
          "output_type": "stream",
          "name": "stdout",
          "text": "Training Data: 1800 entries\nTesting Data: 200 entries\n"
        }
      ],
      "execution_count": 25,
      "metadata": {
        "jupyter": {
          "source_hidden": false,
          "outputs_hidden": false
        },
        "nteract": {
          "transient": {
            "deleting": false
          }
        },
        "gather": {
          "logged": 1667700340469
        }
      }
    },
    {
      "cell_type": "code",
      "source": [
        "# save csv file and upload to datastore\n",
        "pd.DataFrame(train_data).to_csv(\"data/train_dataset.csv\", index=False)\n",
        "pd.DataFrame(test_data).to_csv(\"data/test_dataset.csv\", index=False)\n",
        "datastore = ws.get_default_datastore()\n",
        "datastore.upload(src_dir='./data', target_path='spotify_exp', overwrite=True, show_progress=True)\n",
        "\n",
        " # datastore for AutoML\n",
        "training_data = TabularDatasetFactory.from_delimited_files(path=datastore.path('spotify_exp/train_dataset.csv'))\n",
        "testing_data = TabularDatasetFactory.from_delimited_files(path=datastore.path('spotify_exp/test_dataset.csv'))\n"
      ],
      "outputs": [
        {
          "output_type": "stream",
          "name": "stdout",
          "text": "Uploading an estimated of 5 files\nUploading ./data/.amlignore\nUploaded ./data/.amlignore, 1 files out of an estimated total of 5\nUploading ./data/.amlignore.amltmp\nUploaded ./data/.amlignore.amltmp, 2 files out of an estimated total of 5\nUploading ./data/songs_normalize.csv\nUploaded ./data/songs_normalize.csv, 3 files out of an estimated total of 5\nUploading ./data/test_dataset.csv\nUploaded ./data/test_dataset.csv, 4 files out of an estimated total of 5\nUploading ./data/train_dataset.csv\nUploaded ./data/train_dataset.csv, 5 files out of an estimated total of 5\nUploaded 5 files\nUploading an estimated of 5 files\nUploading ./data/.amlignore\nUploaded ./data/.amlignore, 1 files out of an estimated total of 5\nUploading ./data/.amlignore.amltmp\nUploaded ./data/.amlignore.amltmp, 2 files out of an estimated total of 5\nUploading ./data/songs_normalize.csv\nUploaded ./data/songs_normalize.csv, 3 files out of an estimated total of 5\nUploading ./data/test_dataset.csv\nUploaded ./data/test_dataset.csv, 4 files out of an estimated total of 5\nUploading ./data/train_dataset.csv\nUploaded ./data/train_dataset.csv, 5 files out of an estimated total of 5\nUploaded 5 files\n"
        }
      ],
      "execution_count": 29,
      "metadata": {
        "jupyter": {
          "source_hidden": false,
          "outputs_hidden": false
        },
        "nteract": {
          "transient": {
            "deleting": false
          }
        },
        "gather": {
          "logged": 1667700871553
        }
      }
    },
    {
      "cell_type": "markdown",
      "source": [
        "## AutoML Configuration\n",
        "\n",
        "TODO: Explain why you chose the automl settings and cofiguration you used below."
      ],
      "metadata": {}
    },
    {
      "cell_type": "code",
      "source": [
        "from azureml.train.automl.utilities import get_primary_metrics\n",
        "\n",
        "get_primary_metrics(\"regression\")"
      ],
      "outputs": [
        {
          "output_type": "execute_result",
          "execution_count": 22,
          "data": {
            "text/plain": "['normalized_root_mean_squared_error',\n 'spearman_correlation',\n 'r2_score',\n 'normalized_mean_absolute_error']"
          },
          "metadata": {}
        }
      ],
      "execution_count": 22,
      "metadata": {
        "jupyter": {
          "source_hidden": false,
          "outputs_hidden": false
        },
        "nteract": {
          "transient": {
            "deleting": false
          }
        },
        "gather": {
          "logged": 1667699686574
        }
      }
    },
    {
      "cell_type": "code",
      "source": [
        "from azureml.core.compute import AmlCompute\n",
        "from azureml.core.compute import ComputeTarget\n",
        "from azureml.core.compute_target import ComputeTargetException\n",
        "\n",
        "amlcompute_cluster_name = \"auto-ml\"\n",
        "\n",
        "# Verify that cluster does not exist already\n",
        "try:\n",
        "    compute_target = ComputeTarget(workspace=ws, name=amlcompute_cluster_name)\n",
        "    print('Found existing cluster, use it.')\n",
        "except ComputeTargetException:\n",
        "    compute_config = AmlCompute.provisioning_configuration(vm_size='Standard_DS3_v2',# for GPU, use \"STANDARD_NC6\"\n",
        "                                                           #vm_priority = 'lowpriority', # optional\n",
        "                                                           max_nodes=4)\n",
        "    compute_target = ComputeTarget.create(ws, amlcompute_cluster_name, compute_config)\n",
        "\n",
        "compute_target.wait_for_completion(show_output=True, min_node_count = 1, timeout_in_minutes = 3)"
      ],
      "outputs": [
        {
          "output_type": "stream",
          "name": "stdout",
          "text": "InProgress.\nSucceededProvisioning operation finished, operation \"Succeeded\"\nSucceeded......................................................................................................................\nAmlCompute wait for completion finished\n\nWait timeout has been reached\nCurrent provisioning state of AmlCompute is \"Succeeded\" and current node count is \"0\"\n"
        }
      ],
      "execution_count": 32,
      "metadata": {
        "jupyter": {
          "source_hidden": false,
          "outputs_hidden": false
        },
        "nteract": {
          "transient": {
            "deleting": false
          }
        },
        "gather": {
          "logged": 1667701624733
        }
      }
    },
    {
      "cell_type": "code",
      "source": [
        "automl_settings = {\n",
        "    \"n_cross_validations\": 5,\n",
        "    \"iteration_timeout_minutes\": 10,\n",
        "    \"experiment_timeout_hours\": .25,\n",
        "    \"max_concurrent_iterations\": 5,\n",
        "    \"primary_metric\" : 'normalized_root_mean_squared_error'\n",
        "}\n",
        "\n",
        "automl_config = AutoMLConfig(compute_target=compute_target,\n",
        "                             task = \"regression\",\n",
        "                             training_data=training_data,\n",
        "                             label_column_name=\"popularity\",\n",
        "                             enable_early_stopping= True,\n",
        "                             featurization= 'auto',\n",
        "                             debug_log = \"automl_errors.log\",\n",
        "                             **automl_settings\n",
        "                            )"
      ],
      "outputs": [],
      "execution_count": 34,
      "metadata": {
        "gather": {
          "logged": 1667701958494
        },
        "jupyter": {
          "outputs_hidden": false,
          "source_hidden": false
        },
        "nteract": {
          "transient": {
            "deleting": false
          }
        }
      }
    },
    {
      "cell_type": "code",
      "source": [
        "# TODO: Submit your experiment\n",
        "remote_run = experiment.submit(automl_config)"
      ],
      "outputs": [
        {
          "output_type": "stream",
          "name": "stdout",
          "text": "Submitting remote run.\n"
        },
        {
          "output_type": "display_data",
          "data": {
            "text/plain": "<IPython.core.display.HTML object>",
            "text/html": "<table style=\"width:100%\"><tr><th>Experiment</th><th>Id</th><th>Type</th><th>Status</th><th>Details Page</th><th>Docs Page</th></tr><tr><td>udacity-capstone</td><td>AutoML_31be47e9-b5e6-4b5c-9480-10745c1b679f</td><td>automl</td><td>NotStarted</td><td><a href=\"https://ml.azure.com/runs/AutoML_31be47e9-b5e6-4b5c-9480-10745c1b679f?wsid=/subscriptions/6b66a03f-9834-4d5b-92f6-b82e733674dc/resourcegroups/azuremleast/workspaces/capstone&amp;tid=a1ab4d21-4797-4645-90e8-98fbc87b1b92\" target=\"_blank\" rel=\"noopener\">Link to Azure Machine Learning studio</a></td><td><a href=\"https://docs.microsoft.com/en-us/python/api/overview/azure/ml/intro?view=azure-ml-py\" target=\"_blank\" rel=\"noopener\">Link to Documentation</a></td></tr></table>"
          },
          "metadata": {}
        }
      ],
      "execution_count": 35,
      "metadata": {
        "gather": {
          "logged": 1667701964938
        },
        "jupyter": {
          "outputs_hidden": false,
          "source_hidden": false
        },
        "nteract": {
          "transient": {
            "deleting": false
          }
        }
      }
    },
    {
      "cell_type": "markdown",
      "source": [
        "## Run Details\n",
        "\n",
        "OPTIONAL: Write about the different models trained and their performance. Why do you think some models did better than others?\n",
        "\n",
        "TODO: In the cell below, use the `RunDetails` widget to show the different experiments."
      ],
      "metadata": {}
    },
    {
      "cell_type": "code",
      "source": [
        "RunDetails(remote_run).show()"
      ],
      "outputs": [
        {
          "output_type": "display_data",
          "data": {
            "text/plain": "_AutoMLWidget(widget_settings={'childWidgetDisplay': 'popup', 'send_telemetry': False, 'log_level': 'INFO', 's…",
            "application/vnd.jupyter.widget-view+json": {
              "version_major": 2,
              "version_minor": 0,
              "model_id": "0da08d0147d94df2b14564bded33bda2"
            }
          },
          "metadata": {}
        },
        {
          "output_type": "display_data",
          "data": {
            "application/aml.mini.widget.v1": "{\"status\": \"Running\", \"workbench_run_details_uri\": \"https://ml.azure.com/runs/AutoML_31be47e9-b5e6-4b5c-9480-10745c1b679f?wsid=/subscriptions/6b66a03f-9834-4d5b-92f6-b82e733674dc/resourcegroups/azuremleast/workspaces/capstone&tid=a1ab4d21-4797-4645-90e8-98fbc87b1b92\", \"run_id\": \"AutoML_31be47e9-b5e6-4b5c-9480-10745c1b679f\", \"run_properties\": {\"run_id\": \"AutoML_31be47e9-b5e6-4b5c-9480-10745c1b679f\", \"created_utc\": \"2022-11-06T02:32:43.89572Z\", \"properties\": {\"num_iterations\": \"1000\", \"training_type\": \"TrainFull\", \"acquisition_function\": \"EI\", \"primary_metric\": \"normalized_root_mean_squared_error\", \"train_split\": \"0\", \"acquisition_parameter\": \"0\", \"num_cross_validation\": \"5\", \"target\": \"auto-ml\", \"AMLSettingsJsonString\": \"{\\\"path\\\":null,\\\"name\\\":\\\"udacity-capstone\\\",\\\"subscription_id\\\":\\\"6b66a03f-9834-4d5b-92f6-b82e733674dc\\\",\\\"resource_group\\\":\\\"azuremleast\\\",\\\"workspace_name\\\":\\\"capstone\\\",\\\"region\\\":\\\"eastus2\\\",\\\"compute_target\\\":\\\"auto-ml\\\",\\\"spark_service\\\":null,\\\"azure_service\\\":\\\"remote\\\",\\\"many_models\\\":false,\\\"pipeline_fetch_max_batch_size\\\":1,\\\"enable_batch_run\\\":true,\\\"enable_run_restructure\\\":false,\\\"start_auxiliary_runs_before_parent_complete\\\":false,\\\"enable_code_generation\\\":true,\\\"iterations\\\":1000,\\\"primary_metric\\\":\\\"normalized_root_mean_squared_error\\\",\\\"task_type\\\":\\\"regression\\\",\\\"positive_label\\\":null,\\\"data_script\\\":null,\\\"test_size\\\":0.0,\\\"test_include_predictions_only\\\":false,\\\"validation_size\\\":0.0,\\\"n_cross_validations\\\":5,\\\"y_min\\\":null,\\\"y_max\\\":null,\\\"num_classes\\\":null,\\\"featurization\\\":\\\"auto\\\",\\\"_ignore_package_version_incompatibilities\\\":false,\\\"is_timeseries\\\":false,\\\"max_cores_per_iteration\\\":1,\\\"max_concurrent_iterations\\\":5,\\\"iteration_timeout_minutes\\\":10,\\\"mem_in_mb\\\":null,\\\"enforce_time_on_windows\\\":false,\\\"experiment_timeout_minutes\\\":15,\\\"experiment_exit_score\\\":null,\\\"partition_column_names\\\":null,\\\"whitelist_models\\\":null,\\\"blacklist_algos\\\":[\\\"TensorFlowDNN\\\",\\\"TensorFlowLinearRegressor\\\"],\\\"supported_models\\\":[\\\"SGD\\\",\\\"TabnetRegressor\\\",\\\"GradientBoosting\\\",\\\"RandomForest\\\",\\\"TensorFlowLinearRegressor\\\",\\\"ExtremeRandomTrees\\\",\\\"XGBoostRegressor\\\",\\\"OnlineGradientDescentRegressor\\\",\\\"ElasticNet\\\",\\\"LassoLars\\\",\\\"LightGBM\\\",\\\"FastLinearRegressor\\\",\\\"TensorFlowDNN\\\",\\\"KNN\\\",\\\"DecisionTree\\\"],\\\"private_models\\\":[],\\\"auto_blacklist\\\":true,\\\"blacklist_samples_reached\\\":false,\\\"exclude_nan_labels\\\":true,\\\"verbosity\\\":20,\\\"_debug_log\\\":\\\"azureml_automl.log\\\",\\\"show_warnings\\\":false,\\\"model_explainability\\\":true,\\\"service_url\\\":null,\\\"sdk_url\\\":null,\\\"sdk_packages\\\":null,\\\"enable_onnx_compatible_models\\\":false,\\\"enable_split_onnx_featurizer_estimator_models\\\":false,\\\"vm_type\\\":\\\"STANDARD_DS3_V2\\\",\\\"telemetry_verbosity\\\":20,\\\"send_telemetry\\\":true,\\\"enable_dnn\\\":false,\\\"scenario\\\":\\\"AutoML\\\",\\\"environment_label\\\":null,\\\"save_mlflow\\\":false,\\\"enable_categorical_indicators\\\":false,\\\"force_text_dnn\\\":false,\\\"enable_feature_sweeping\\\":true,\\\"enable_early_stopping\\\":true,\\\"early_stopping_n_iters\\\":10,\\\"arguments\\\":null,\\\"dataset_id\\\":\\\"c23200ef-9de6-4c16-a2d3-597c1a428dfd\\\",\\\"hyperdrive_config\\\":null,\\\"validation_dataset_id\\\":null,\\\"run_source\\\":null,\\\"metrics\\\":null,\\\"enable_metric_confidence\\\":false,\\\"enable_ensembling\\\":true,\\\"enable_stack_ensembling\\\":true,\\\"ensemble_iterations\\\":15,\\\"enable_tf\\\":false,\\\"enable_subsampling\\\":null,\\\"subsample_seed\\\":null,\\\"enable_nimbusml\\\":false,\\\"enable_streaming\\\":false,\\\"force_streaming\\\":false,\\\"track_child_runs\\\":true,\\\"allowed_private_models\\\":[],\\\"label_column_name\\\":\\\"popularity\\\",\\\"weight_column_name\\\":null,\\\"cv_split_column_names\\\":null,\\\"enable_local_managed\\\":false,\\\"_local_managed_run_id\\\":null,\\\"cost_mode\\\":1,\\\"lag_length\\\":0,\\\"metric_operation\\\":\\\"minimize\\\",\\\"preprocess\\\":true}\", \"DataPrepJsonString\": \"{\\\\\\\"training_data\\\\\\\": {\\\\\\\"datasetId\\\\\\\": \\\\\\\"c23200ef-9de6-4c16-a2d3-597c1a428dfd\\\\\\\"}, \\\\\\\"datasets\\\\\\\": 0}\", \"EnableSubsampling\": null, \"runTemplate\": \"AutoML\", \"azureml.runsource\": \"automl\", \"display_task_type\": \"regression\", \"dependencies_versions\": \"{\\\"azureml-widgets\\\": \\\"1.44.0\\\", \\\"azureml-training-tabular\\\": \\\"1.44.0\\\", \\\"azureml-train\\\": \\\"1.44.0\\\", \\\"azureml-train-restclients-hyperdrive\\\": \\\"1.44.0\\\", \\\"azureml-train-core\\\": \\\"1.44.0\\\", \\\"azureml-train-automl\\\": \\\"1.44.0\\\", \\\"azureml-train-automl-runtime\\\": \\\"1.44.0\\\", \\\"azureml-train-automl-client\\\": \\\"1.44.0\\\", \\\"azureml-tensorboard\\\": \\\"1.44.0\\\", \\\"azureml-telemetry\\\": \\\"1.44.0\\\", \\\"azureml-sdk\\\": \\\"1.44.0\\\", \\\"azureml-samples\\\": \\\"0+unknown\\\", \\\"azureml-responsibleai\\\": \\\"1.44.0\\\", \\\"azureml-pipeline\\\": \\\"1.44.0\\\", \\\"azureml-pipeline-steps\\\": \\\"1.44.0\\\", \\\"azureml-pipeline-core\\\": \\\"1.44.0\\\", \\\"azureml-opendatasets\\\": \\\"1.44.0\\\", \\\"azureml-mlflow\\\": \\\"1.44.0\\\", \\\"azureml-interpret\\\": \\\"1.44.0\\\", \\\"azureml-inference-server-http\\\": \\\"0.7.4\\\", \\\"azureml-explain-model\\\": \\\"1.44.0\\\", \\\"azureml-defaults\\\": \\\"1.44.0\\\", \\\"azureml-dataset-runtime\\\": \\\"1.44.0\\\", \\\"azureml-dataprep\\\": \\\"4.2.2\\\", \\\"azureml-dataprep-rslex\\\": \\\"2.8.1\\\", \\\"azureml-dataprep-native\\\": \\\"38.0.0\\\", \\\"azureml-datadrift\\\": \\\"1.44.0\\\", \\\"azureml-core\\\": \\\"1.44.0\\\", \\\"azureml-contrib-services\\\": \\\"1.44.0\\\", \\\"azureml-contrib-server\\\": \\\"1.44.0\\\", \\\"azureml-contrib-reinforcementlearning\\\": \\\"1.44.0\\\", \\\"azureml-contrib-pipeline-steps\\\": \\\"1.44.0\\\", \\\"azureml-contrib-notebook\\\": \\\"1.44.0\\\", \\\"azureml-contrib-fairness\\\": \\\"1.44.0\\\", \\\"azureml-contrib-dataset\\\": \\\"1.44.0\\\", \\\"azureml-contrib-automl-pipeline-steps\\\": \\\"1.44.0\\\", \\\"azureml-cli-common\\\": \\\"1.44.0\\\", \\\"azureml-automl-runtime\\\": \\\"1.44.0\\\", \\\"azureml-automl-dnn-nlp\\\": \\\"1.44.0\\\", \\\"azureml-automl-core\\\": \\\"1.44.0\\\", \\\"azureml-accel-models\\\": \\\"1.44.0\\\"}\", \"_aml_system_scenario_identification\": \"Remote.Parent\", \"ClientType\": \"SDK\", \"environment_cpu_name\": \"AzureML-AutoML\", \"environment_cpu_label\": \"prod\", \"environment_gpu_name\": \"AzureML-AutoML-GPU\", \"environment_gpu_label\": \"prod\", \"root_attribution\": \"automl\", \"attribution\": \"AutoML\", \"Orchestrator\": \"AutoML\", \"CancelUri\": \"https://eastus2.api.azureml.ms/jasmine/v1.0/subscriptions/6b66a03f-9834-4d5b-92f6-b82e733674dc/resourceGroups/azuremleast/providers/Microsoft.MachineLearningServices/workspaces/capstone/experimentids/e21aa6e3-279f-4513-935b-36158282e6e7/cancel/AutoML_31be47e9-b5e6-4b5c-9480-10745c1b679f\", \"ClientSdkVersion\": \"1.46.1\", \"snapshotId\": \"00000000-0000-0000-0000-000000000000\", \"SetupRunId\": \"AutoML_31be47e9-b5e6-4b5c-9480-10745c1b679f_setup\", \"SetupRunContainerId\": \"dcid.AutoML_31be47e9-b5e6-4b5c-9480-10745c1b679f_setup\"}, \"tags\": {\"model_explain_run\": \"best_run\", \"_aml_system_automl_run_workspace_id\": \"dd591850-8318-4646-a1be-8cf6fa88b995\", \"_aml_system_azureml.automlComponent\": \"AutoML\"}, \"end_time_utc\": null, \"status\": \"Running\", \"log_files\": {}, \"log_groups\": [], \"run_duration\": \"0:24:34\", \"run_number\": \"1667701963\", \"run_queued_details\": {\"status\": \"Running\", \"details\": null}}, \"child_runs\": [{\"run_id\": \"AutoML_31be47e9-b5e6-4b5c-9480-10745c1b679f_setup\", \"run_number\": 1667701976, \"metric\": null, \"status\": \"Queued\", \"run_type\": \"azureml.scriptrun\", \"training_percent\": null, \"start_time\": \"\", \"end_time\": \"\", \"created_time\": \"2022-11-06T02:32:56.040379Z\", \"created_time_dt\": \"2022-11-06T02:32:56.040379Z\", \"duration\": \"0:24:22\", \"iteration\": null, \"goal\": null, \"run_name\": \"Queued\", \"run_properties\": null}], \"children_metrics\": {\"categories\": null, \"series\": null, \"metricName\": null}, \"run_metrics\": [], \"run_logs\": \"Your job is submitted in Azure cloud and we are monitoring to get logs...\", \"graph\": {}, \"widget_settings\": {\"childWidgetDisplay\": \"popup\", \"send_telemetry\": false, \"log_level\": \"INFO\", \"sdk_version\": \"1.44.0\"}, \"loading\": false}"
          },
          "metadata": {}
        },
        {
          "output_type": "display_data",
          "data": {
            "text/plain": "_UserRunWidget(widget_settings={'childWidgetDisplay': 'popup', 'send_telemetry': False, 'log_level': 'INFO', '…",
            "application/vnd.jupyter.widget-view+json": {
              "version_major": 2,
              "version_minor": 0,
              "model_id": "3136a260ebf24c8fa2394cba6404252d"
            }
          },
          "metadata": {}
        },
        {
          "output_type": "display_data",
          "data": {
            "application/aml.mini.widget.v1": "{\"status\": \"Queued\", \"workbench_run_details_uri\": \"https://ml.azure.com/runs/AutoML_31be47e9-b5e6-4b5c-9480-10745c1b679f_setup?wsid=/subscriptions/6b66a03f-9834-4d5b-92f6-b82e733674dc/resourcegroups/azuremleast/workspaces/capstone&tid=a1ab4d21-4797-4645-90e8-98fbc87b1b92\", \"run_id\": \"AutoML_31be47e9-b5e6-4b5c-9480-10745c1b679f_setup\", \"run_properties\": {\"run_id\": \"AutoML_31be47e9-b5e6-4b5c-9480-10745c1b679f_setup\", \"created_utc\": \"2022-11-06T02:32:56.040379Z\", \"properties\": {\"_aml_system_scenario_identification\": \"Remote.SetUp\", \"azureml.runsource\": \"automl\", \"parentRunId\": \"AutoML_31be47e9-b5e6-4b5c-9480-10745c1b679f\", \"_azureml.ComputeTargetType\": \"amlctrain\", \"ContentSnapshotId\": \"7564aaf2-46fe-45f5-aedb-74efd2377fc6\", \"ProcessInfoFile\": \"azureml-logs/process_info.json\", \"ProcessStatusFile\": \"azureml-logs/process_status.json\"}, \"tags\": {\"_aml_system_azureml.automlComponent\": \"AutoML\", \"_aml_system_ComputeTargetStatus\": \"{\\\"AllocationState\\\":\\\"steady\\\",\\\"PreparingNodeCount\\\":0,\\\"RunningNodeCount\\\":0,\\\"CurrentNodeCount\\\":0}\"}, \"script_name\": null, \"arguments\": null, \"end_time_utc\": null, \"status\": \"Queued\", \"log_files\": {}, \"log_groups\": [], \"run_duration\": \"0:24:47\", \"run_number\": \"1667701976\", \"run_queued_details\": {\"status\": \"Queued\", \"details\": \"Run requested 1 node(s). 'auto-ml' cluster has encountered error(s). Instances of the specified VM size are not currently available. Please retry later, try reducing the VM size or number of instances, or try deploying to a different region\\nOperation results in exceeding quota limits of Total Cluster Dedicated Regional vCPUs. Maximum allowed: 6, Current in use: 4, Additional requested: 4. Click here to view and request for quota: https://portal.azure.com/#resource/subscriptions/6b66a03f-9834-4d5b-92f6-b82e733674dc/resourceGroups/azuremleast/providers/Microsoft.MachineLearningServices/workspaces/capstone/quotaUsage\"}}, \"child_runs\": [], \"children_metrics\": {}, \"run_metrics\": [], \"run_logs\": \"Your job is submitted in Azure cloud and we are monitoring to get logs...\", \"graph\": {}, \"widget_settings\": {\"childWidgetDisplay\": \"popup\", \"send_telemetry\": false, \"log_level\": \"INFO\", \"sdk_version\": \"1.44.0\", \"display\": \"popup\"}, \"loading\": false}"
          },
          "metadata": {}
        }
      ],
      "execution_count": 36,
      "metadata": {
        "gather": {
          "logged": 1667701996846
        },
        "jupyter": {
          "outputs_hidden": false,
          "source_hidden": false
        },
        "nteract": {
          "transient": {
            "deleting": false
          }
        }
      }
    },
    {
      "cell_type": "markdown",
      "source": [
        "## Best Model\n",
        "\n",
        "TODO: In the cell below, get the best model from the automl experiments and display all the properties of the model.\n",
        "\n"
      ],
      "metadata": {}
    },
    {
      "cell_type": "code",
      "source": [],
      "outputs": [],
      "execution_count": null,
      "metadata": {
        "gather": {
          "logged": 1598431425670
        },
        "jupyter": {
          "outputs_hidden": false,
          "source_hidden": false
        },
        "nteract": {
          "transient": {
            "deleting": false
          }
        }
      }
    },
    {
      "cell_type": "code",
      "source": [
        "#TODO: Save the best model"
      ],
      "outputs": [],
      "execution_count": null,
      "metadata": {
        "gather": {
          "logged": 1598431426111
        },
        "jupyter": {
          "outputs_hidden": false,
          "source_hidden": false
        },
        "nteract": {
          "transient": {
            "deleting": false
          }
        }
      }
    },
    {
      "cell_type": "markdown",
      "source": [
        "## Model Deployment\n",
        "\n",
        "Remember you have to deploy only one of the two models you trained but you still need to register both the models. Perform the steps in the rest of this notebook only if you wish to deploy this model.\n",
        "\n",
        "TODO: In the cell below, register the model, create an inference config and deploy the model as a web service."
      ],
      "metadata": {}
    },
    {
      "cell_type": "code",
      "source": [],
      "outputs": [],
      "execution_count": null,
      "metadata": {
        "gather": {
          "logged": 1598431435189
        },
        "jupyter": {
          "outputs_hidden": false,
          "source_hidden": false
        },
        "nteract": {
          "transient": {
            "deleting": false
          }
        }
      }
    },
    {
      "cell_type": "markdown",
      "source": [
        "TODO: In the cell below, send a request to the web service you deployed to test it."
      ],
      "metadata": {
        "collapsed": true,
        "gather": {
          "logged": 1598431657736
        },
        "jupyter": {
          "outputs_hidden": false,
          "source_hidden": false
        },
        "nteract": {
          "transient": {
            "deleting": false
          }
        }
      }
    },
    {
      "cell_type": "code",
      "source": [],
      "outputs": [],
      "execution_count": null,
      "metadata": {
        "gather": {
          "logged": 1598432707604
        },
        "jupyter": {
          "outputs_hidden": false,
          "source_hidden": false
        },
        "nteract": {
          "transient": {
            "deleting": false
          }
        }
      }
    },
    {
      "cell_type": "markdown",
      "source": [
        "TODO: In the cell below, print the logs of the web service and delete the service"
      ],
      "metadata": {
        "collapsed": true,
        "gather": {
          "logged": 1598432765711
        },
        "jupyter": {
          "outputs_hidden": false,
          "source_hidden": false
        },
        "nteract": {
          "transient": {
            "deleting": false
          }
        }
      }
    },
    {
      "cell_type": "code",
      "source": [],
      "outputs": [],
      "execution_count": null,
      "metadata": {
        "jupyter": {
          "outputs_hidden": false,
          "source_hidden": false
        },
        "nteract": {
          "transient": {
            "deleting": false
          }
        }
      }
    },
    {
      "cell_type": "markdown",
      "source": [
        "**Submission Checklist**\n",
        "- I have registered the model.\n",
        "- I have deployed the model with the best accuracy as a webservice.\n",
        "- I have tested the webservice by sending a request to the model endpoint.\n",
        "- I have deleted the webservice and shutdown all the computes that I have used.\n",
        "- I have taken a screenshot showing the model endpoint as active.\n",
        "- The project includes a file containing the environment details.\n"
      ],
      "metadata": {}
    },
    {
      "cell_type": "markdown",
      "source": [],
      "metadata": {}
    }
  ],
  "metadata": {
    "kernel_info": {
      "name": "python3"
    },
    "kernelspec": {
      "name": "python3",
      "language": "python",
      "display_name": "Python 3 (ipykernel)"
    },
    "language_info": {
      "name": "python",
      "version": "3.8.5",
      "mimetype": "text/x-python",
      "codemirror_mode": {
        "name": "ipython",
        "version": 3
      },
      "pygments_lexer": "ipython3",
      "nbconvert_exporter": "python",
      "file_extension": ".py"
    },
    "nteract": {
      "version": "nteract-front-end@1.0.0"
    },
    "microsoft": {
      "host": {
        "AzureML": {
          "notebookHasBeenCompleted": true
        }
      }
    }
  },
  "nbformat": 4,
  "nbformat_minor": 2
}